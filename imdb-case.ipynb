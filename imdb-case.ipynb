{
 "cells": [
  {
   "cell_type": "code",
   "execution_count": 1,
   "id": "twelve-interval",
   "metadata": {},
   "outputs": [],
   "source": [
    "import aswan"
   ]
  },
  {
   "cell_type": "code",
   "execution_count": 2,
   "id": "published-explanation",
   "metadata": {},
   "outputs": [],
   "source": [
    "project = aswan.Project(\"imdb-example\")"
   ]
  },
  {
   "cell_type": "code",
   "execution_count": 3,
   "id": "controlled-forth",
   "metadata": {},
   "outputs": [],
   "source": [
    "celeb_table = project.get_prod_table(\"person\")\n",
    "movie_table = project.get_prod_table(\"movie\")"
   ]
  },
  {
   "cell_type": "code",
   "execution_count": 4,
   "id": "optimum-preservation",
   "metadata": {},
   "outputs": [],
   "source": [
    "@project.register_handler\n",
    "class CelebHandler(aswan.RequestSoupHandler):\n",
    "    url_root = \"https://www.imdb.com\"\n",
    "\n",
    "    def parse(self, soup):\n",
    "        return {\n",
    "            \"name\": soup.find(\"h1\").find(\"span\").text.strip(),\n",
    "            \"dob\": soup.find(\"div\", id=\"name-born-info\").find(\"time\")[\"datetime\"],\n",
    "        }"
   ]
  },
  {
   "cell_type": "code",
   "execution_count": 5,
   "id": "front-shower",
   "metadata": {},
   "outputs": [],
   "source": [
    "@project.register_handler\n",
    "class MovieHandler(aswan.RequestSoupHandler):\n",
    "    url_root = \"https://www.imdb.com\"\n",
    "    def parse(self, soup):\n",
    "\n",
    "        for cast in soup.find(\"table\", class_=\"cast_list\").find_all(\"td\", class_=\"primary_photo\")[:3]:\n",
    "            self.register_links_to_handler([cast.find(\"a\")[\"href\"]], CelebHandler)\n",
    "        \n",
    "        ref_section = soup.find(\"section\",class_=\"titlereference-section-overview\")\n",
    "        summary = None\n",
    "        if ref_section is not None:\n",
    "            summary = getattr(ref_section.find(\"div\"), \"text\", \"\").strip()\n",
    "        return {\n",
    "            \"title\": soup.find(\"title\").text.replace(\" - Reference View - IMDb\", \"\").strip(),\n",
    "            \"summary\": summary,\n",
    "            \"year\": int(soup.find(\"span\", class_=\"titlereference-title-year\").find(\"a\").text),\n",
    "        }"
   ]
  },
  {
   "cell_type": "code",
   "execution_count": 6,
   "id": "latest-support",
   "metadata": {},
   "outputs": [],
   "source": [
    "@project.register_t2_integrator\n",
    "class MovieIntegrator(aswan.FlexibleDfParser):\n",
    "    handlers = [MovieHandler]\n",
    "\n",
    "    def url_parser(self, url):\n",
    "        return {\"id\": url.split(\"/\")[-1]}\n",
    "\n",
    "    def write_df(self, df):\n",
    "        return movie_table.extend(df)\n",
    "\n",
    "\n",
    "@project.register_t2_integrator\n",
    "class CelebIntegrator(aswan.FlexibleDfParser):\n",
    "    handlers = [CelebHandler]\n",
    "\n",
    "    def write_df(self, df):\n",
    "        return celeb_table.extend(df)"
   ]
  },
  {
   "cell_type": "code",
   "execution_count": 7,
   "id": "oriental-branch",
   "metadata": {},
   "outputs": [],
   "source": [
    "def add_init_urls():\n",
    "    movie_urls = [\n",
    "        \"https://www.imdb.com/title/tt1045772/reference\",\n",
    "        \"https://www.imdb.com/title/tt2543164/reference\",\n",
    "    ]\n",
    "\n",
    "    person_urls = [\"https://www.imdb.com/name/nm0000190\"]\n",
    "    project.add_urls_to_handler(MovieHandler, movie_urls)\n",
    "    project.add_urls_to_handler(CelebHandler, person_urls)"
   ]
  },
  {
   "cell_type": "code",
   "execution_count": 8,
   "id": "gentle-sender",
   "metadata": {},
   "outputs": [],
   "source": [
    "add_init_urls()"
   ]
  },
  {
   "cell_type": "code",
   "execution_count": 9,
   "id": "divided-promise",
   "metadata": {
    "scrolled": false
   },
   "outputs": [
    {
     "name": "stdout",
     "output_type": "stream",
     "text": [
      "2022-07-12 01:05.14 [info     ] running function reset_surls   env=prod function_batch=run_prep\n",
      "2022-07-12 01:05.14 [info     ] function reset_surls returned None env=prod function_batch=run_prep\n",
      "2022-07-12 01:05.14 [info     ] running function expire_surls  env=prod function_batch=run_prep\n",
      "2022-07-12 01:05.14 [info     ] function expire_surls returned None env=prod function_batch=run_prep\n",
      "2022-07-12 01:05.14 [info     ] running function _register_starter_urls env=prod function_batch=run_prep\n",
      "2022-07-12 01:05.14 [info     ] function _register_starter_urls returned 0 env=prod function_batch=run_prep\n",
      "2022-07-12 01:05.14 [info     ] running function _create_scheduler env=prod function_batch=run_prep\n",
      "2022-07-12 01:05.14 [info     ] function _create_scheduler returned None env=prod function_batch=run_prep\n",
      "2022-07-12 01:05.14 [info     ] running function start_monitor_process env=prod function_batch=run_prep\n",
      "2022-07-12 01:05.14 [info     ]  monitor app at: http://localhost:6969\n",
      "2022-07-12 01:05.14 [info     ] function start_monitor_process returned None env=prod function_batch=run_prep\n",
      "2022-07-12 01:05.24 [info     ] running function join          function_batch=run_cleanup\n",
      "2022-07-12 01:05.24 [info     ] function join returned None    function_batch=run_cleanup\n",
      "2022-07-12 01:05.24 [info     ] running function integrate_to_t2 function_batch=run_cleanup\n",
      "2022-07-12 01:05.24 [info     ] running integrator MovieIntegrator\n",
      "2022-07-12 01:05.24 [info     ] running integrator CelebIntegrator\n",
      "2022-07-12 01:05.24 [info     ] function integrate_to_t2 returned None function_batch=run_cleanup\n",
      "2022-07-12 01:05.24 [info     ] running function stop_monitor_process function_batch=run_cleanup\n",
      "2022-07-12 01:05.24 [info     ] function stop_monitor_process returned None function_batch=run_cleanup\n"
     ]
    }
   ],
   "source": [
    "project.run(with_monitor_process=True)"
   ]
  },
  {
   "cell_type": "code",
   "execution_count": 10,
   "id": "cordless-french",
   "metadata": {},
   "outputs": [
    {
     "data": {
      "text/html": [
       "<div>\n",
       "<style scoped>\n",
       "    .dataframe tbody tr th:only-of-type {\n",
       "        vertical-align: middle;\n",
       "    }\n",
       "\n",
       "    .dataframe tbody tr th {\n",
       "        vertical-align: top;\n",
       "    }\n",
       "\n",
       "    .dataframe thead th {\n",
       "        text-align: right;\n",
       "    }\n",
       "</style>\n",
       "<table border=\"1\" class=\"dataframe\">\n",
       "  <thead>\n",
       "    <tr style=\"text-align: right;\">\n",
       "      <th></th>\n",
       "      <th>title</th>\n",
       "      <th>summary</th>\n",
       "      <th>year</th>\n",
       "      <th>id</th>\n",
       "    </tr>\n",
       "  </thead>\n",
       "  <tbody>\n",
       "    <tr>\n",
       "      <th>0</th>\n",
       "      <td>Arrival (2016)</td>\n",
       "      <td>A linguist works with the military to communic...</td>\n",
       "      <td>2016</td>\n",
       "      <td>reference</td>\n",
       "    </tr>\n",
       "    <tr>\n",
       "      <th>1</th>\n",
       "      <td>I Love You Phillip Morris (2009)</td>\n",
       "      <td>A cop turns con man once he comes out of the c...</td>\n",
       "      <td>2009</td>\n",
       "      <td>reference</td>\n",
       "    </tr>\n",
       "  </tbody>\n",
       "</table>\n",
       "</div>"
      ],
      "text/plain": [
       "                              title  \\\n",
       "0                    Arrival (2016)   \n",
       "1  I Love You Phillip Morris (2009)   \n",
       "\n",
       "                                             summary  year         id  \n",
       "0  A linguist works with the military to communic...  2016  reference  \n",
       "1  A cop turns con man once he comes out of the c...  2009  reference  "
      ]
     },
     "execution_count": 10,
     "metadata": {},
     "output_type": "execute_result"
    }
   ],
   "source": [
    "movie_table.get_full_df()"
   ]
  },
  {
   "cell_type": "code",
   "execution_count": 11,
   "id": "otherwise-roman",
   "metadata": {},
   "outputs": [
    {
     "data": {
      "text/html": [
       "<div>\n",
       "<style scoped>\n",
       "    .dataframe tbody tr th:only-of-type {\n",
       "        vertical-align: middle;\n",
       "    }\n",
       "\n",
       "    .dataframe tbody tr th {\n",
       "        vertical-align: top;\n",
       "    }\n",
       "\n",
       "    .dataframe thead th {\n",
       "        text-align: right;\n",
       "    }\n",
       "</style>\n",
       "<table border=\"1\" class=\"dataframe\">\n",
       "  <thead>\n",
       "    <tr style=\"text-align: right;\">\n",
       "      <th></th>\n",
       "      <th>name</th>\n",
       "      <th>dob</th>\n",
       "    </tr>\n",
       "  </thead>\n",
       "  <tbody>\n",
       "    <tr>\n",
       "      <th>0</th>\n",
       "      <td>Matthew McConaughey</td>\n",
       "      <td>1969-11-4</td>\n",
       "    </tr>\n",
       "    <tr>\n",
       "      <th>1</th>\n",
       "      <td>Leslie Mann</td>\n",
       "      <td>1972-3-26</td>\n",
       "    </tr>\n",
       "    <tr>\n",
       "      <th>2</th>\n",
       "      <td>Jeremy Renner</td>\n",
       "      <td>1971-1-7</td>\n",
       "    </tr>\n",
       "    <tr>\n",
       "      <th>3</th>\n",
       "      <td>Jim Carrey</td>\n",
       "      <td>1962-1-17</td>\n",
       "    </tr>\n",
       "    <tr>\n",
       "      <th>4</th>\n",
       "      <td>Forest Whitaker</td>\n",
       "      <td>1961-7-15</td>\n",
       "    </tr>\n",
       "    <tr>\n",
       "      <th>5</th>\n",
       "      <td>Ewan McGregor</td>\n",
       "      <td>1971-3-31</td>\n",
       "    </tr>\n",
       "    <tr>\n",
       "      <th>6</th>\n",
       "      <td>Amy Adams</td>\n",
       "      <td>1974-8-20</td>\n",
       "    </tr>\n",
       "  </tbody>\n",
       "</table>\n",
       "</div>"
      ],
      "text/plain": [
       "                  name        dob\n",
       "0  Matthew McConaughey  1969-11-4\n",
       "1          Leslie Mann  1972-3-26\n",
       "2        Jeremy Renner   1971-1-7\n",
       "3           Jim Carrey  1962-1-17\n",
       "4      Forest Whitaker  1961-7-15\n",
       "5        Ewan McGregor  1971-3-31\n",
       "6            Amy Adams  1974-8-20"
      ]
     },
     "execution_count": 11,
     "metadata": {},
     "output_type": "execute_result"
    }
   ],
   "source": [
    "celeb_table.get_full_df()"
   ]
  },
  {
   "cell_type": "code",
   "execution_count": 12,
   "id": "beautiful-lawsuit",
   "metadata": {},
   "outputs": [],
   "source": [
    "project.purge(True)"
   ]
  }
 ],
 "metadata": {
  "kernelspec": {
   "display_name": "Python 3 (ipykernel)",
   "language": "python",
   "name": "python3"
  },
  "language_info": {
   "codemirror_mode": {
    "name": "ipython",
    "version": 3
   },
   "file_extension": ".py",
   "mimetype": "text/x-python",
   "name": "python",
   "nbconvert_exporter": "python",
   "pygments_lexer": "ipython3",
   "version": "3.10.4"
  }
 },
 "nbformat": 4,
 "nbformat_minor": 5
}
